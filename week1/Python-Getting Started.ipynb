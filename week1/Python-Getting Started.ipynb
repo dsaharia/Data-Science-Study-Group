{
 "cells": [
  {
   "cell_type": "markdown",
   "metadata": {},
   "source": [
    "# Python Getting Started\n",
    "\n",
    "<p> This contains practice codes and examples from the Python Getting Started Cource on Pluralsight.</p>\n",
    "[Link To Site](https://app.pluralsight.com/library/courses/python-getting-started/table-of-contents)"
   ]
  },
  {
   "cell_type": "markdown",
   "metadata": {},
   "source": [
    "Python is a **dynamically typed** high level language which means it does not have data types which needs to specified when writing code."
   ]
  },
  {
   "cell_type": "code",
   "execution_count": 15,
   "metadata": {
    "scrolled": true
   },
   "outputs": [
    {
     "name": "stdout",
     "output_type": "stream",
     "text": [
      "15.14\n"
     ]
    }
   ],
   "source": [
    "pi = 3.14\n",
    "num = 12\n",
    "result = pi + num\n",
    "print (result)"
   ]
  },
  {
   "cell_type": "markdown",
   "metadata": {},
   "source": [
    "Here we added an int and float. Python does not care about types for most cases.Hence, no error produced.Typecasting is supported by simplying wrapping the variable in parenthesis with the desired type `int(pi)`will convert 3.14 to an integer 3."
   ]
  },
  {
   "cell_type": "code",
   "execution_count": 22,
   "metadata": {},
   "outputs": [
    {
     "name": "stdout",
     "output_type": "stream",
     "text": [
      "Hello world\n",
      "True\n",
      "True\n"
     ]
    }
   ],
   "source": [
    "str = 'hello World'\n",
    "print(str.capitalize())\n",
    "print('str'.isalpha()) # Using quotes returns true but not using quotes returns False?\n",
    "print('123'.isdigit())"
   ]
  },
  {
   "cell_type": "code",
   "execution_count": 23,
   "metadata": {},
   "outputs": [
    {
     "name": "stdout",
     "output_type": "stream",
     "text": [
      "Hello Dhiraj, Variable a contains: 111\n"
     ]
    }
   ],
   "source": [
    "str = 'Dhiraj'\n",
    "a = 111\n",
    "print('Hello {0}, Variable a contains: {1}'.format(str,a))"
   ]
  },
  {
   "cell_type": "markdown",
   "metadata": {},
   "source": [
    "This is called a **string format Function**. 0 and 1 are index numbers for our variables.This can take infinite number of arguments."
   ]
  },
  {
   "cell_type": "markdown",
   "metadata": {},
   "source": [
    "### Lists\n",
    "Lists are like arrays. Since we don't need to specify what type of elements will be there in the lists we can add any type of element link strings,integers,None,Boolean but only one type of lists is preferred to minimize confusion and bugs. Many list funtions like *pop* *slice* *push* etc"
   ]
  },
  {
   "cell_type": "code",
   "execution_count": 45,
   "metadata": {},
   "outputs": [
    {
     "name": "stdout",
     "output_type": "stream",
     "text": [
      "Length =4\n",
      "The student name is Mark\n",
      "The student name is Jane\n",
      "The student name is Homer\n",
      "0\n",
      "1\n",
      "2\n",
      "3\n",
      "4\n"
     ]
    }
   ],
   "source": [
    "students = ['Mark','Jane','John'] # Example of a List in python.\n",
    "students.append('Homer') # For adding elements to the end of the list.\n",
    "print('Length =' + str(len(students))) # For the number of elements in the list\n",
    "del students[2] # For deleting John from the lost\n",
    "# print(students)\n",
    "for name in students:\n",
    "    print('The student name is {0}'.format(name)) #We did not supply starting and ending points\n",
    "    #for the loop yet it does the iteration because python hides that part and detects the length\n",
    "    #of the list also'''\n",
    "x=0\n",
    "for index in range(5):  # range - How many times we want the loop to execute\n",
    "    print(x)      #range(5,10,2) - start from 5 upto 10 with adding 2 every time\n",
    "    x += 1"
   ]
  },
  {
   "cell_type": "markdown",
   "metadata": {},
   "source": [
    "## Dictionary and Error Handling\n",
    "Useful to store structured data with *key* value pairs."
   ]
  },
  {
   "cell_type": "code",
   "execution_count": 9,
   "metadata": {},
   "outputs": [
    {
     "name": "stdout",
     "output_type": "stream",
     "text": [
      "John\n",
      "dict_keys(['name', 'student_Id', 'feedback'])\n",
      "dict_values(['John', 1666, None])\n",
      "Sorry Key Not found\n",
      "{1, 2, 3, 4, 5, 6}\n"
     ]
    }
   ],
   "source": [
    "student = {\n",
    "    'name':'John',\n",
    "    'student_Id':1666,\n",
    "    'feedback':None\n",
    "}\n",
    "print(student['name'])\n",
    "print(student.keys())\n",
    "print(student.values())\n",
    "try:\n",
    "    print(student['last_name'])\n",
    "except KeyError:\n",
    "    print('Sorry Key Not found')\n",
    "    \n",
    "print(set([3,2,1,2,3,4,5,6]))"
   ]
  },
  {
   "cell_type": "markdown",
   "metadata": {},
   "source": [
    "## Functions\n",
    "Single functions should do a single job only"
   ]
  },
  {
   "cell_type": "code",
   "execution_count": 4,
   "metadata": {},
   "outputs": [
    {
     "name": "stdout",
     "output_type": "stream",
     "text": [
      "Mark\n",
      "('Hello World', True, 661)\n",
      "John\n",
      "GOOD 661\n"
     ]
    }
   ],
   "source": [
    "def var_args(name, *args):        # Args - variable number of arguments\n",
    "    print(name)\n",
    "    print(args)\n",
    "var_args('Mark',\"Hello World\",True,661)\n",
    "\n",
    "def var_kwargs(name, **kwargs):\n",
    "    print(name)\n",
    "    print(kwargs['feedback'],kwargs['number'])\n",
    "var_kwargs('John', feedback = 'GOOD', number = 661)"
   ]
  },
  {
   "cell_type": "markdown",
   "metadata": {},
   "source": [
    "## Lambda Functions\n",
    "Used for creating small, one-time and anonymous function objects in Python.<br>\n",
    "Basic Syntax --> `lambda arguments : expression`\n",
    "lambda operator can have any number of arguments, but it can have only one expression. It cannot contain any statements and it returns a function object which can be assigned to any variable."
   ]
  },
  {
   "cell_type": "code",
   "execution_count": 1,
   "metadata": {},
   "outputs": [
    {
     "data": {
      "text/plain": [
       "10"
      ]
     },
     "execution_count": 1,
     "metadata": {},
     "output_type": "execute_result"
    }
   ],
   "source": [
    "double = lambda x: x * 2\n",
    "double(5)"
   ]
  },
  {
   "cell_type": "markdown",
   "metadata": {},
   "source": [
    "## Object Oriented Programming - Classes\n",
    "Classes - Logical Group of funtions and data. Functions in a class are called Methods.\n",
    "Advantage of class is that it allows more readablility and maintainability of code.\n",
    "* Data associated with class are called attributes or methods.\n",
    "* Instance - Classes are the blueprint to create instances so we do not have to do it manually.\n",
    "* **Constructor method** - Receives the instance as it's first argument,Convention is to call it *self*. We can add more arguments after *self*. Runs automatically and everytime new instance is created.\n",
    "`def __init__(self)`\n",
    "* Class variables - Variables that are shared among all instances in a class.\n"
   ]
  },
  {
   "cell_type": "code",
   "execution_count": null,
   "metadata": {},
   "outputs": [],
   "source": []
  }
 ],
 "metadata": {
  "kernelspec": {
   "display_name": "Python 3",
   "language": "python",
   "name": "python3"
  },
  "language_info": {
   "codemirror_mode": {
    "name": "ipython",
    "version": 3
   },
   "file_extension": ".py",
   "mimetype": "text/x-python",
   "name": "python",
   "nbconvert_exporter": "python",
   "pygments_lexer": "ipython3",
   "version": "3.6.5"
  }
 },
 "nbformat": 4,
 "nbformat_minor": 2
}
