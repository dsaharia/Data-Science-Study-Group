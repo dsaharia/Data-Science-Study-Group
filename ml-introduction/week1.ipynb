{
 "cells": [
  {
   "cell_type": "markdown",
   "metadata": {},
   "source": [
    "## Machine Learning Introduction\n",
    "\n",
    "Samuel(1959) - Machine Learning is the science of getting computers to learn without explicitly programmed.\n",
    "Examples of Machine Learning -\n",
    "1. Database Mining.\n",
    "2. Autonomous Helicopters.\n",
    "3. Handwriting Recognition.\n",
    "etc.\n",
    "\n",
    "More modern Definition -\n",
    "Mitchell - A computer program is said to learn from experience E with respect to some task T and some performance measure P, if its performance on T, as measured by P, improves with experience E.\n",
    "\n",
    "Machine Learning Algorithms-\n",
    "1. Supervised Learning\n",
    "2. Unsupervised Learning\n",
    "\n",
    "## Supervised Learning -\n",
    "**Supervised learning problems are categorized into \"regression\" and \"classification\" problems.**\n",
    "When we give the algorithm a dataset in which 'right answers' were given.\n",
    "* Also called a **Regression problems** - To predict continous valued outputs.\n",
    "\n",
    "* **Classification problems** - Discrete valued output, sometimes more than 2 values are possible. When the prediction value is more of a Yes/No type.\n",
    "\n",
    "Attributes can be more than one. Also can be infinite (Support Vector Machines).\n",
    "N.B - To store infinite number of attibutes we use some mathematical tricks.\n",
    "\n",
    "\n",
    "## Unsupervised Learning\n",
    "When the datasets supplied have no labels or have same labels.\n",
    "Clustering Problems - Automatically find structures in the given datasets\n",
    "eg - organizing computer clusters, social network analysis, Astronomical data analysis.\n",
    "\n",
    "Cocktail Party Problem - \n",
    "Let's say in a party there are two people who speak in the same time and there are two microphones separated by some distance. The CPP algorithm tries to extract the two persons voice. This is a unsupervised learning problem because we are only supplying data with no labels and let the algorithm decide the structure of the data. [WIKI](https://en.wikipedia.org/wiki/Cocktail_party_effect)\n"
   ]
  },
  {
   "cell_type": "markdown",
   "metadata": {},
   "source": [
    "## Model Representation\n",
    "\n"
   ]
  },
  {
   "cell_type": "markdown",
   "metadata": {},
   "source": [
    "Training data -> Learning Algorithm -> Output Function (denoted by h - Hypothesis)\n",
    "\n",
    "* 'h'maps from X's to Y's\n",
    "* h(x) - Linear Regression using 1 variable. (Univariate Regression)\n",
    "* h(x) = a + bx\n",
    "\n",
    "Cost function - A cost function is something that we want to minimize. eg - Square error etc.\n",
    "(h(x) - y)ˆ2"
   ]
  },
  {
   "cell_type": "code",
   "execution_count": null,
   "metadata": {},
   "outputs": [],
   "source": []
  }
 ],
 "metadata": {
  "kernelspec": {
   "display_name": "Python 3",
   "language": "python",
   "name": "python3"
  },
  "language_info": {
   "codemirror_mode": {
    "name": "ipython",
    "version": 3
   },
   "file_extension": ".py",
   "mimetype": "text/x-python",
   "name": "python",
   "nbconvert_exporter": "python",
   "pygments_lexer": "ipython3",
   "version": "3.7.1"
  }
 },
 "nbformat": 4,
 "nbformat_minor": 2
}
