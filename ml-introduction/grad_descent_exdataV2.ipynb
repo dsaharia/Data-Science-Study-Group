{
 "cells": [
  {
   "cell_type": "markdown",
   "metadata": {},
   "source": [
    "## Linear regression using Gradient Descent\n",
    "---\n",
    "This is a modification of my first notebook\n",
    "\n",
    "### Goals -\n",
    "* To remove unnecessary variables.\n",
    "* To plot the cost vs iterations plot and analize the overall function of the equations with varying parameters.\n",
    "* Use enumerate rather than range everywhere.\n",
    "* Unnecessary Initialization of variables.\n",
    "#### Doubts - \n",
    "* Difference between pandas series and dataframes.\n",
    "\n",
    "\n",
    "References -\n",
    "* [Notebook #1](https://gist.github.com/sagarmainkar/41d135a04d7d3bc4098f0664fe20cf3c#file-gradientdescent-ipynb)\n",
    "* [Notebook #2](https://github.com/ozzieliu/python-tutorials/blob/master/Linear%20Regression/Linear%20Regression%20with%20Gradient%20Descent.ipynb)"
   ]
  },
  {
   "cell_type": "code",
   "execution_count": 1,
   "metadata": {},
   "outputs": [],
   "source": [
    "import pandas as pd\n",
    "import numpy as np\n",
    "import matplotlib.pyplot as plt\n",
    "%matplotlib inline"
   ]
  },
  {
   "cell_type": "code",
   "execution_count": 2,
   "metadata": {},
   "outputs": [],
   "source": [
    "data = pd.read_csv('data/ex1data1.txt',names=['population','profits'],header=None)\n",
    "# x_df = data.population # separating population\n",
    "# y_df = data.profits # separating the profits"
   ]
  },
  {
   "cell_type": "code",
   "execution_count": 5,
   "metadata": {},
   "outputs": [
    {
     "data": {
      "image/png": "[encoded data removed]",
      "text/plain": [
       "<Figure size 432x288 with 1 Axes>"
      ]
     },
     "metadata": {
      "needs_background": "light"
     },
     "output_type": "display_data"
    }
   ],
   "source": [
    "plt.scatter(data['population'],data['profits'],c='red',linewidths=0.4,alpha=0.6,)\n",
    "plt.title('Population Vs Profits Plot')\n",
    "plt.xlabel('Population in 10,000\\'s')\n",
    "plt.ylabel('Profits in $10,000')\n",
    "plt.show()"
   ]
  },
  {
   "cell_type": "code",
   "execution_count": 23,
   "metadata": {},
   "outputs": [],
   "source": [
    "xpopulation = data['population'].values\n",
    "yprofits = data['profits'].values\n",
    "xpopulation = xpopulation[:,np.newaxis]\n",
    "yprofits = yprofits[:,np.newaxis]\n",
    "\n",
    "# Not completed\n",
    "# to be revisited"
   ]
  },
  {
   "cell_type": "code",
   "execution_count": null,
   "metadata": {},
   "outputs": [],
   "source": []
  },
  {
   "cell_type": "code",
   "execution_count": null,
   "metadata": {},
   "outputs": [],
   "source": []
  }
 ],
 "metadata": {
  "kernelspec": {
   "display_name": "Python 3",
   "language": "python",
   "name": "python3"
  },
  "language_info": {
   "codemirror_mode": {
    "name": "ipython",
    "version": 3
   },
   "file_extension": ".py",
   "mimetype": "text/x-python",
   "name": "python",
   "nbconvert_exporter": "python",
   "pygments_lexer": "ipython3",
   "version": "3.7.1"
  }
 },
 "nbformat": 4,
 "nbformat_minor": 2
}
