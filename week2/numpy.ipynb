{
 "cells": [
  {
   "cell_type": "markdown",
   "metadata": {},
   "source": [
    "# Numpy Module Introduction using [Link](https://github.com/jrjohansson/scientific-python-lectures/blob/master/Lecture-2-Numpy.ipynb)"
   ]
  },
  {
   "cell_type": "markdown",
   "metadata": {},
   "source": [
    "# Introduction to numpy -\n",
    "Numpy is a python module used in all numerical computations.\n",
    "> Why use numpy instead of lists? \n",
    "> * numpy is faster, convenient and consumes less memory than python lists. Also numpy gives powerful vector and matrix and higher-dimensional data structures in python.\n",
    "* Written in C and Fortran."
   ]
  },
  {
   "cell_type": "code",
   "execution_count": 3,
   "metadata": {},
   "outputs": [],
   "source": [
    "from numpy import * # numpy module imported."
   ]
  },
  {
   "cell_type": "markdown",
   "metadata": {},
   "source": [
    "### Creating numpy arrays-\n",
    "We can initialize new numpy arrays using\n",
    "* Python Lists/ Tuples.\n",
    "* Using array generating functions such as arange etc.\n",
    "* Reading from files."
   ]
  },
  {
   "cell_type": "markdown",
   "metadata": {},
   "source": [
    "### 1. Using Lists -"
   ]
  },
  {
   "cell_type": "code",
   "execution_count": 9,
   "metadata": {},
   "outputs": [
    {
     "data": {
      "text/plain": [
       "(array([1, 2, 3, 4, 5]), array([[1, 2],\n",
       "        [3, 4]]))"
      ]
     },
     "execution_count": 9,
     "metadata": {},
     "output_type": "execute_result"
    }
   ],
   "source": [
    "vector = array([1,2,3,4,5]) # Argument to the array function is a Python List\n",
    "matrix = array([[1,2],[3,4]]) # Argument is a nested Python list\n",
    "vector, matrix"
   ]
  },
  {
   "cell_type": "markdown",
   "metadata": {},
   "source": [
    "The vector and matrix are both objects of type **ndarray** provided by numpy module."
   ]
  },
  {
   "cell_type": "code",
   "execution_count": 10,
   "metadata": {},
   "outputs": [
    {
     "data": {
      "text/plain": [
       "(numpy.ndarray, numpy.ndarray)"
      ]
     },
     "execution_count": 10,
     "metadata": {},
     "output_type": "execute_result"
    }
   ],
   "source": [
    "type(vector),type(matrix)"
   ]
  },
  {
   "cell_type": "markdown",
   "metadata": {},
   "source": [
    "* The difference between them is only in their shapes. (Use ndarray.shape())\n",
    "* The number of elements in the array is given by the ndarray.size.\n",
    "* type of Data is given by ndarray.dtype.\n",
    "* Numpy arrays are statically typed and homogenous. The type of ements in the array is determined before creating it.\n",
    "* We can explicitly define the type of the array data when created using arguments. Some common dtypes are complex, float, int bool etc."
   ]
  },
  {
   "cell_type": "code",
   "execution_count": 23,
   "metadata": {},
   "outputs": [
    {
     "name": "stdout",
     "output_type": "stream",
     "text": [
      "Vector Shape -> (5,)\n",
      "Matrix Shape -> (6,)\n",
      "Vector Size -> 5\n",
      "Matrix Size -> 6\n",
      "Vector Dtype -> int64\n",
      "Matrix Dtype -> complex128\n"
     ]
    },
    {
     "data": {
      "text/plain": [
       "array([1.+0.j, 2.+0.j, 3.+0.j, 4.+0.j, 5.+0.j, 6.+0.j])"
      ]
     },
     "execution_count": 23,
     "metadata": {},
     "output_type": "execute_result"
    }
   ],
   "source": [
    "print(\"Vector Shape -> {}\".format(vector.shape))\n",
    "print(\"Matrix Shape -> {}\".format(matrix.shape))\n",
    "print(\"Vector Size -> {}\".format(vector.size))\n",
    "print(\"Matrix Size -> {}\".format(matrix.size))\n",
    "print(\"Vector Dtype -> {}\".format(vector.dtype))\n",
    "print(\"Matrix Dtype -> {}\".format(matrix.dtype))\n",
    "matrix = array([1,2,3,4,5,6], dtype=complex)\n",
    "matrix"
   ]
  },
  {
   "cell_type": "markdown",
   "metadata": {},
   "source": [
    "### 2. Using Generating functions -"
   ]
  },
  {
   "cell_type": "markdown",
   "metadata": {},
   "source": [
    "For large arrays it is impractical to do it manually. Instead we can use one of the many generating functions in numpy module of different forms."
   ]
  },
  {
   "cell_type": "code",
   "execution_count": 30,
   "metadata": {},
   "outputs": [
    {
     "name": "stdout",
     "output_type": "stream",
     "text": [
      "[0 3 6 9]\n",
      "[-1.00000000e+00 -9.00000000e-01 -8.00000000e-01 -7.00000000e-01\n",
      " -6.00000000e-01 -5.00000000e-01 -4.00000000e-01 -3.00000000e-01\n",
      " -2.00000000e-01 -1.00000000e-01 -2.22044605e-16  1.00000000e-01\n",
      "  2.00000000e-01  3.00000000e-01  4.00000000e-01  5.00000000e-01\n",
      "  6.00000000e-01  7.00000000e-01  8.00000000e-01  9.00000000e-01]\n"
     ]
    }
   ],
   "source": [
    "# arange -\n",
    "x = arange(0,10,3) # start,stop,step\n",
    "print(x)\n",
    "y = arange(-1,1,0.1)\n",
    "print(y)"
   ]
  },
  {
   "cell_type": "code",
   "execution_count": null,
   "metadata": {},
   "outputs": [],
   "source": [
    "# linespace & logspace"
   ]
  }
 ],
 "metadata": {
  "kernelspec": {
   "display_name": "Python 3",
   "language": "python",
   "name": "python3"
  },
  "language_info": {
   "codemirror_mode": {
    "name": "ipython",
    "version": 3
   },
   "file_extension": ".py",
   "mimetype": "text/x-python",
   "name": "python",
   "nbconvert_exporter": "python",
   "pygments_lexer": "ipython3",
   "version": "3.7.1"
  }
 },
 "nbformat": 4,
 "nbformat_minor": 2
}
